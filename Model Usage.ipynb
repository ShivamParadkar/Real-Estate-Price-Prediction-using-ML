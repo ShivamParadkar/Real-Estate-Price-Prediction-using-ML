{
 "cells": [
  {
   "cell_type": "code",
   "execution_count": 1,
   "id": "384ff0c6",
   "metadata": {},
   "outputs": [],
   "source": [
    "import numpy as np\n",
    "from joblib import dump, load\n",
    "model = load('RealESpace.joblib')"
   ]
  },
  {
   "cell_type": "code",
   "execution_count": 2,
   "id": "2f739cc8",
   "metadata": {},
   "outputs": [
    {
     "data": {
      "text/plain": [
       "array([20.113])"
      ]
     },
     "execution_count": 2,
     "metadata": {},
     "output_type": "execute_result"
    }
   ],
   "source": [
    "features = np.array([[-0.42292925, 14.4898311 , -0.57719868, -0.27288841, -0.5573845 ,\n",
    "        0.15283383, -0.52225911,  0.37882487, 8.5429938 , -0.74402708,\n",
    "        0.52982668,  0.45343469, 3.81939807],])\n",
    "model.predict(features)"
   ]
  },
  {
   "cell_type": "code",
   "execution_count": null,
   "id": "4bd66c6e",
   "metadata": {},
   "outputs": [],
   "source": []
  }
 ],
 "metadata": {
  "kernelspec": {
   "display_name": "Python 3 (ipykernel)",
   "language": "python",
   "name": "python3"
  },
  "language_info": {
   "codemirror_mode": {
    "name": "ipython",
    "version": 3
   },
   "file_extension": ".py",
   "mimetype": "text/x-python",
   "name": "python",
   "nbconvert_exporter": "python",
   "pygments_lexer": "ipython3",
   "version": "3.9.7"
  }
 },
 "nbformat": 4,
 "nbformat_minor": 5
}
